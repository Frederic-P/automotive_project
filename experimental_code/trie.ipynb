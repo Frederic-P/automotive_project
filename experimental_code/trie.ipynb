{
 "cells": [
  {
   "cell_type": "markdown",
   "metadata": {},
   "source": [
    "The goal of this notebook is to implement a trie structure to quickly find all available uuidV4 listings.The script responsible for maintaining the listings collection needs the UUID to be searchabel in a quick manner. This notebook is intended to implement a trie class as well as perform a benchmark to compare the trie-performance vs the standard python`in ` operator."
   ]
  },
  {
   "cell_type": "code",
   "execution_count": 1,
   "metadata": {},
   "outputs": [],
   "source": [
    "import sys\n",
    "sys.path.append('../utils')\n",
    "import config_handling as conf\n",
    "from database import Database\n",
    "from trie import UUIDv4Trie\n",
    "import time\n",
    "import uuid\n"
   ]
  },
  {
   "cell_type": "code",
   "execution_count": 2,
   "metadata": {},
   "outputs": [
    {
     "name": "stdout",
     "output_type": "stream",
     "text": [
      "Connection established\n"
     ]
    }
   ],
   "source": [
    "# Connect to database\n",
    "config = conf.read_config('../config/automotive.conf.ini')\n",
    "config.read('config.ini')\n",
    "connection_type = config['settings']['connection']\n",
    "connection_type\n",
    "user = config[connection_type]['user']\n",
    "pw = config[connection_type]['pw']\n",
    "host = config[connection_type]['host']\n",
    "db = config[connection_type]['db']\n",
    "port = config[connection_type].getint('port')\n",
    "db = Database(host,\n",
    "              port,\n",
    "              user,\n",
    "              pw,\n",
    "              db\n",
    "              )\n",
    "db.connect()\n",
    "db.start_transaction()\n",
    "#image directory: \n",
    "basedir = config['settings']['image_directory']"
   ]
  },
  {
   "cell_type": "code",
   "execution_count": 3,
   "metadata": {},
   "outputs": [
    {
     "name": "stdout",
     "output_type": "stream",
     "text": [
      "Execution times: \n",
      " \t Trie: 52.92005109786987\n",
      "\t List: 0.17224574089050293\n"
     ]
    }
   ],
   "source": [
    "trie = UUIDv4Trie()\n",
    "\n",
    "query  = \"SELECT autoscout_id FROM listings\"\n",
    "rows = db.execute_query(query)\n",
    "for row in rows:\n",
    "    #I'm not sure if Python optimizes things if the same loop occurs a second time\n",
    "    #loop here onces, then loop again and again to limit the potential impact of this.\n",
    "    id = row['autoscout_id']\n",
    "\n",
    "trie_build_starttime = time.time()\n",
    "for row in rows:\n",
    "    id = row['autoscout_id']\n",
    "    trie.insert(id)\n",
    "trie_build_time = time.time() - trie_build_starttime\n",
    "\n",
    "inlist = []\n",
    "inlist_build_starttime = time.time()\n",
    "for row in rows:\n",
    "    #todo; is there a faster way?\n",
    "    id = row['autoscout_id']\n",
    "    inlist.append(id)\n",
    "inlist_build_time = time.time() - inlist_build_starttime\n",
    "\n",
    "print(f\"Execution times: \\n \\t Trie: {trie_build_time}\\n\\t List: {inlist_build_time}\")"
   ]
  },
  {
   "cell_type": "markdown",
   "metadata": {},
   "source": [
    "So we have establisted that making a trie-structure for our data is a lot slower than using a list. What about using the in operator vs trie-traversal (i.e. lookup if uuid exists)?"
   ]
  },
  {
   "cell_type": "code",
   "execution_count": 4,
   "metadata": {},
   "outputs": [],
   "source": [
    "import numpy as np\n",
    "import random"
   ]
  },
  {
   "cell_type": "code",
   "execution_count": 5,
   "metadata": {},
   "outputs": [],
   "source": [
    "numpy_based_ids = np.array(inlist)"
   ]
  },
  {
   "cell_type": "code",
   "execution_count": 6,
   "metadata": {},
   "outputs": [
    {
     "data": {
      "text/plain": [
       "1250"
      ]
     },
     "execution_count": 6,
     "metadata": {},
     "output_type": "execute_result"
    }
   ],
   "source": [
    "random_uuids = np.random.choice(numpy_based_ids, 1000)\n",
    "#add 250 random uuids:\n",
    "for i in range(250):\n",
    "    uuidstr = str(uuid.uuid4())\n",
    "    random_uuids = np.append(random_uuids, uuidstr)\n",
    "random.shuffle(random_uuids)\n",
    "len(random_uuids)"
   ]
  },
  {
   "cell_type": "code",
   "execution_count": 7,
   "metadata": {},
   "outputs": [],
   "source": [
    "nparr = np.array(inlist)\n"
   ]
  },
  {
   "cell_type": "code",
   "execution_count": 8,
   "metadata": {},
   "outputs": [
    {
     "name": "stdout",
     "output_type": "stream",
     "text": [
      "Time taken by in-operator (list): 19.924341440200806 with 1000yesses and 250 nos\n",
      "Time taken by trie-searcher: 0.008815288543701172 with 1000yesses and 250 nos\n"
     ]
    }
   ],
   "source": [
    "for id in random_uuids:\n",
    "    #same thing; exclude cashing issue.\n",
    "    pass\n",
    "#measure in-operator in python list: \n",
    "in_loop_start_time = time.time()\n",
    "yes = 0\n",
    "no = 0\n",
    "for id in random_uuids:\n",
    "    if id in inlist:\n",
    "        yes += 1\n",
    "    else:\n",
    "        no += 1\n",
    "in_loop_duration = time.time() - in_loop_start_time\n",
    "print(f\"Time taken by in-operator (list): {in_loop_duration} with {yes}yesses and {no} nos\")\n",
    "#measure in-operator in numpy array: (aborted during testing, stupidly slow)\n",
    "#yes = 0\n",
    "#no = 0\n",
    "#nparr_start_time = time.time()\n",
    "#for id in random_uuids:\n",
    "#    if np.isin(id, nparr):\n",
    "#        yes += 1\n",
    "#    else:\n",
    "#        no += 1\n",
    "#npar_duration = time.time() - nparr_start_time\n",
    "#print(f\"Time taken by in-operator (NP.array): {npar_duration } with {yes}yesses and {no} nos\")\n",
    "#trie structure: \n",
    "yes = 0\n",
    "no = 0\n",
    "trie_starttime = time.time()\n",
    "for id in random_uuids:\n",
    "    if trie.search(id):\n",
    "        yes += 1\n",
    "    else:\n",
    "        no += 1\n",
    "trie_duration = time.time()  - trie_starttime\n",
    "print(f\"Time taken by trie-searcher: {trie_duration } with {yes}yesses and {no} nos\")\n",
    "\n",
    "\n"
   ]
  },
  {
   "cell_type": "markdown",
   "metadata": {},
   "source": [
    "WOOHOO: building trie is a lot slower, but seems to be worth it! \n",
    "Conclusion: Trie datastructure should be implemented in the maintainer script!"
   ]
  },
  {
   "cell_type": "code",
   "execution_count": null,
   "metadata": {},
   "outputs": [],
   "source": []
  }
 ],
 "metadata": {
  "kernelspec": {
   "display_name": "automotive_project",
   "language": "python",
   "name": "python3"
  },
  "language_info": {
   "codemirror_mode": {
    "name": "ipython",
    "version": 3
   },
   "file_extension": ".py",
   "mimetype": "text/x-python",
   "name": "python",
   "nbconvert_exporter": "python",
   "pygments_lexer": "ipython3",
   "version": "3.11.0"
  }
 },
 "nbformat": 4,
 "nbformat_minor": 2
}
