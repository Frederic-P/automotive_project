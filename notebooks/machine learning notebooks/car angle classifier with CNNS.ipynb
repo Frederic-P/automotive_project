{
 "cells": [
  {
   "cell_type": "code",
   "execution_count": 104,
   "metadata": {},
   "outputs": [],
   "source": [
    "import os\n",
    "import numpy as np\n",
    "import pandas as pd\n",
    "import matplotlib.pyplot as plt\n",
    "from sklearn.model_selection import train_test_split\n",
    "from sklearn.semi_supervised import LabelPropagation\n",
    "from sklearn.metrics import make_scorer\n",
    "from sklearn.metrics.pairwise import cosine_similarity\n",
    "from sklearn.preprocessing import LabelEncoder\n",
    "import cv2\n",
    "import sys\n",
    "sys.path.append('../../utils')\n",
    "import config_handling as conf\n",
    "from database import Database\n",
    "from file_io import path_handler\n",
    "import matplotlib.image as mpimg\n",
    "from tqdm import tqdm\n",
    "from sklearn.metrics import confusion_matrix, ConfusionMatrixDisplay"
   ]
  },
  {
   "cell_type": "code",
   "execution_count": 2,
   "metadata": {},
   "outputs": [
    {
     "name": "stderr",
     "output_type": "stream",
     "text": [
      "2025-01-10 09:02:45.813660: E external/local_xla/xla/stream_executor/cuda/cuda_fft.cc:477] Unable to register cuFFT factory: Attempting to register factory for plugin cuFFT when one has already been registered\n",
      "WARNING: All log messages before absl::InitializeLog() is called are written to STDERR\n",
      "E0000 00:00:1736499765.876164    5509 cuda_dnn.cc:8310] Unable to register cuDNN factory: Attempting to register factory for plugin cuDNN when one has already been registered\n",
      "E0000 00:00:1736499765.894482    5509 cuda_blas.cc:1418] Unable to register cuBLAS factory: Attempting to register factory for plugin cuBLAS when one has already been registered\n",
      "2025-01-10 09:02:46.031789: I tensorflow/core/platform/cpu_feature_guard.cc:210] This TensorFlow binary is optimized to use available CPU instructions in performance-critical operations.\n",
      "To enable the following instructions: AVX2 FMA, in other operations, rebuild TensorFlow with the appropriate compiler flags.\n"
     ]
    }
   ],
   "source": [
    "\n",
    "# Ensure TensorFlow compatibility for CNN-based feature extraction and classifiers\n",
    "import tensorflow as tf\n",
    "from tensorflow.keras.models import Sequential\n",
    "from tensorflow.keras.layers import Conv2D, MaxPooling2D, Flatten, Dense, Dropout\n",
    "from tensorflow.keras.optimizers import Adam\n"
   ]
  },
  {
   "cell_type": "code",
   "execution_count": 3,
   "metadata": {},
   "outputs": [
    {
     "name": "stdout",
     "output_type": "stream",
     "text": [
      "Connection established\n"
     ]
    }
   ],
   "source": [
    "\n",
    "# Load configuration\n",
    "config = conf.read_config('../../config/automotive.conf.ini')\n",
    "config.read('config.ini')\n",
    "connection_type = config['settings']['connection']\n",
    "user = config[connection_type]['user']\n",
    "pw = config[connection_type]['pw']\n",
    "host = config[connection_type]['host']\n",
    "db = config[connection_type]['db']\n",
    "port = config[connection_type].getint('port')\n",
    "db = Database(host,\n",
    "              port,\n",
    "              user,\n",
    "              pw,\n",
    "              db\n",
    "              )\n",
    "db.connect()\n"
   ]
  },
  {
   "cell_type": "code",
   "execution_count": 4,
   "metadata": {},
   "outputs": [],
   "source": [
    "\n",
    "# Image directory\n",
    "basedir = config['settings']['image_directory']\n"
   ]
  },
  {
   "cell_type": "code",
   "execution_count": 5,
   "metadata": {},
   "outputs": [],
   "source": [
    "\n",
    "# Define angle tags and their corresponding ordinal positions\n",
    "ANGLES = [\"front\", \"frontleft\", \"left\", \"rearleft\", \"rear\", \"rearright\", \"right\", \"frontright\"]\n",
    "ORDINAL_MAP = {tag: i for i, tag in enumerate(ANGLES)}\n"
   ]
  },
  {
   "cell_type": "code",
   "execution_count": 6,
   "metadata": {},
   "outputs": [],
   "source": [
    "\n",
    "# Penalty matrix based on circular adjacency\n",
    "PENALTY_MATRIX = np.zeros((len(ANGLES), len(ANGLES)))\n",
    "for i in range(len(ANGLES)):\n",
    "    for j in range(len(ANGLES)):\n",
    "        distance = min(abs(i - j), len(ANGLES) - abs(i - j))\n",
    "        PENALTY_MATRIX[i, j] = distance\n"
   ]
  },
  {
   "cell_type": "code",
   "execution_count": 16,
   "metadata": {},
   "outputs": [],
   "source": [
    "\n",
    "# Function to preprocess image data for CNNs\n",
    "def preprocess_image(image_path, use_bounding_box=False, bbox=None):\n",
    "    img = cv2.imread(image_path)\n",
    "    x1, y1, x2, y2 = bbox\n",
    "    if use_bounding_box and x1 != x2:\n",
    "        img = img[y1:y2, x1:x2]\n",
    "    img = cv2.resize(img, (64, 64))  # Resizing for CNN input\n",
    "    img = img / 255.0  # Normalize pixel values\n",
    "    return img\n"
   ]
  },
  {
   "cell_type": "code",
   "execution_count": 17,
   "metadata": {},
   "outputs": [],
   "source": [
    "\n",
    "# Load and preprocess labeled data\n",
    "def load_data(df, use_bounding_boxes=False):\n",
    "    images = []\n",
    "    for _, row in tqdm(df.iterrows()):\n",
    "        bbox = (row['yolobox_top_left_x'], row['yolobox_top_left_y'], row['yolobox_bottom_right_x'], row['yolobox_bottom_right_y'])\n",
    "        img = preprocess_image(row['abs_image_path'], use_bounding_boxes, bbox)\n",
    "        images.append(img)\n",
    "    return np.array(images)\n"
   ]
  },
  {
   "cell_type": "code",
   "execution_count": 9,
   "metadata": {},
   "outputs": [
    {
     "name": "stderr",
     "output_type": "stream",
     "text": [
      "/home/frederic/Documents/automotive_project/lib/python3.11/site-packages/keras/src/layers/convolutional/base_conv.py:107: UserWarning: Do not pass an `input_shape`/`input_dim` argument to a layer. When using Sequential models, prefer using an `Input(shape)` object as the first layer in the model instead.\n",
      "  super().__init__(activity_regularizer=activity_regularizer, **kwargs)\n",
      "2025-01-10 09:02:48.909388: E external/local_xla/xla/stream_executor/cuda/cuda_driver.cc:152] failed call to cuInit: INTERNAL: CUDA error: Failed call to cuInit: UNKNOWN ERROR (303)\n"
     ]
    }
   ],
   "source": [
    "\n",
    "# Binary classifier with CNN\n",
    "binary_model = Sequential([\n",
    "    Conv2D(32, (3, 3), activation='relu', input_shape=(64, 64, 3)),\n",
    "    MaxPooling2D((2, 2)),\n",
    "    Conv2D(64, (3, 3), activation='relu'),\n",
    "    MaxPooling2D((2, 2)),\n",
    "    Flatten(),\n",
    "    Dense(128, activation='relu'),\n",
    "    Dropout(0.5),\n",
    "    Dense(1, activation='sigmoid')\n",
    "])\n",
    "\n",
    "binary_model.compile(optimizer=Adam(learning_rate=0.001), loss='binary_crossentropy', metrics=['accuracy'])\n"
   ]
  },
  {
   "cell_type": "code",
   "execution_count": 10,
   "metadata": {},
   "outputs": [],
   "source": [
    "\n",
    "# Angle classifier with CNN\n",
    "angle_model = Sequential([\n",
    "    Conv2D(32, (3, 3), activation='relu', input_shape=(64, 64, 3)),\n",
    "    MaxPooling2D((2, 2)),\n",
    "    Conv2D(64, (3, 3), activation='relu'),\n",
    "    MaxPooling2D((2, 2)),\n",
    "    Flatten(),\n",
    "    Dense(128, activation='relu'),\n",
    "    Dropout(0.5),\n",
    "    Dense(len(ANGLES), activation='softmax')\n",
    "])\n"
   ]
  },
  {
   "cell_type": "code",
   "execution_count": 11,
   "metadata": {},
   "outputs": [],
   "source": [
    "\n",
    "def bbox_to_ints(df):\n",
    "    df = df.copy()\n",
    "    for col in ['yolobox_top_left_x', 'yolobox_top_left_y', 'yolobox_bottom_right_x', 'yolobox_bottom_right_y']:\n",
    "        df[col] = df[col].astype(int)\n",
    "    return df"
   ]
  },
  {
   "cell_type": "code",
   "execution_count": 12,
   "metadata": {},
   "outputs": [],
   "source": [
    "\n",
    "angle_model.compile(optimizer=Adam(learning_rate=0.001), loss='sparse_categorical_crossentropy', metrics=['accuracy'])\n",
    "\n",
    "# Query labeled and unlabeled data\n",
    "tags = db.execute_query(\"\"\"SELECT image_id, \n",
    "                            angle, \n",
    "                            images.yolobox_top_left_x, \n",
    "                            images.yolobox_top_left_y, \n",
    "                            images.yolobox_bottom_right_x, \n",
    "                            images.yolobox_bottom_right_y, \n",
    "                            images.image_path \n",
    "                        FROM angletags \n",
    "                        JOIN images on images.id = angletags.image_id \n",
    "                        WHERE \n",
    "                            manual_annotation = 1\"\"\")\n",
    "labeled_data = pd.DataFrame(tags).fillna(-1)\n",
    "labeled_data = bbox_to_ints(labeled_data)\n"
   ]
  },
  {
   "cell_type": "code",
   "execution_count": 13,
   "metadata": {},
   "outputs": [],
   "source": [
    "\n",
    "untagged = db.execute_query(\"\"\"SELECT \n",
    "                                image_path, \n",
    "                                yolobox_top_left_x,\n",
    "                                yolobox_top_left_y,\n",
    "                                yolobox_bottom_right_x,\n",
    "                                yolobox_bottom_right_y\n",
    "                            FROM images\n",
    "                            LEFT JOIN angletags on images.id = angletags.image_id\n",
    "                            WHERE angletags.pk IS NULL\n",
    "\"\"\")\n",
    "unlabeled_data = pd.DataFrame(untagged).fillna(-1)\n",
    "unlabeled_data = bbox_to_ints(unlabeled_data)\n"
   ]
  },
  {
   "cell_type": "code",
   "execution_count": 14,
   "metadata": {},
   "outputs": [],
   "source": [
    "unlabeled_data[\"image_path\"] = unlabeled_data[\"image_path\"].apply(lambda x: x.replace('\\\\', '/'))\n",
    "unlabeled_data[\"abs_image_path\"]= basedir + '/' + unlabeled_data[\"image_path\"]\n",
    "labeled_data[\"image_path\"] = labeled_data[\"image_path\"].apply(lambda x: x.replace('\\\\', '/'))\n",
    "labeled_data[\"abs_image_path\"]= basedir + '/' + labeled_data[\"image_path\"]"
   ]
  },
  {
   "cell_type": "code",
   "execution_count": 18,
   "metadata": {},
   "outputs": [
    {
     "name": "stderr",
     "output_type": "stream",
     "text": [
      "4335it [00:09, 444.45it/s]\n",
      "200it [00:00, 344.66it/s]\n"
     ]
    }
   ],
   "source": [
    "\n",
    "# Preprocess labeled and unlabeled data\n",
    "labeled_images = load_data(labeled_data, use_bounding_boxes=True)\n",
    "unlabeled_images = load_data(unlabeled_data.sample(200), use_bounding_boxes=True)\n"
   ]
  },
  {
   "cell_type": "code",
   "execution_count": 19,
   "metadata": {},
   "outputs": [],
   "source": [
    "\n",
    "# Prepare binary labels\n",
    "labels = labeled_data['angle'].values\n",
    "binary_labels = np.where(labels == \"crappy\", 1, 0)\n"
   ]
  },
  {
   "cell_type": "code",
   "execution_count": 20,
   "metadata": {},
   "outputs": [],
   "source": [
    "\n",
    "X_train_binary, X_test_binary, y_train_binary, y_test_binary = train_test_split(labeled_images, binary_labels, test_size=0.2, random_state=42)\n"
   ]
  },
  {
   "cell_type": "code",
   "execution_count": 21,
   "metadata": {},
   "outputs": [
    {
     "name": "stdout",
     "output_type": "stream",
     "text": [
      "Epoch 1/10\n",
      "\u001b[1m87/87\u001b[0m \u001b[32m━━━━━━━━━━━━━━━━━━━━\u001b[0m\u001b[37m\u001b[0m \u001b[1m7s\u001b[0m 57ms/step - accuracy: 0.6897 - loss: 0.5829 - val_accuracy: 0.8444 - val_loss: 0.4047\n",
      "Epoch 2/10\n",
      "\u001b[1m87/87\u001b[0m \u001b[32m━━━━━━━━━━━━━━━━━━━━\u001b[0m\u001b[37m\u001b[0m \u001b[1m5s\u001b[0m 55ms/step - accuracy: 0.8804 - loss: 0.3077 - val_accuracy: 0.8991 - val_loss: 0.2827\n",
      "Epoch 3/10\n",
      "\u001b[1m87/87\u001b[0m \u001b[32m━━━━━━━━━━━━━━━━━━━━\u001b[0m\u001b[37m\u001b[0m \u001b[1m5s\u001b[0m 54ms/step - accuracy: 0.9110 - loss: 0.2225 - val_accuracy: 0.9049 - val_loss: 0.2569\n",
      "Epoch 4/10\n",
      "\u001b[1m87/87\u001b[0m \u001b[32m━━━━━━━━━━━━━━━━━━━━\u001b[0m\u001b[37m\u001b[0m \u001b[1m5s\u001b[0m 63ms/step - accuracy: 0.9314 - loss: 0.1906 - val_accuracy: 0.9092 - val_loss: 0.2608\n",
      "Epoch 5/10\n",
      "\u001b[1m87/87\u001b[0m \u001b[32m━━━━━━━━━━━━━━━━━━━━\u001b[0m\u001b[37m\u001b[0m \u001b[1m5s\u001b[0m 60ms/step - accuracy: 0.9482 - loss: 0.1456 - val_accuracy: 0.9135 - val_loss: 0.2413\n",
      "Epoch 6/10\n",
      "\u001b[1m87/87\u001b[0m \u001b[32m━━━━━━━━━━━━━━━━━━━━\u001b[0m\u001b[37m\u001b[0m \u001b[1m5s\u001b[0m 59ms/step - accuracy: 0.9535 - loss: 0.1269 - val_accuracy: 0.9078 - val_loss: 0.2826\n",
      "Epoch 7/10\n",
      "\u001b[1m87/87\u001b[0m \u001b[32m━━━━━━━━━━━━━━━━━━━━\u001b[0m\u001b[37m\u001b[0m \u001b[1m5s\u001b[0m 59ms/step - accuracy: 0.9640 - loss: 0.0983 - val_accuracy: 0.9049 - val_loss: 0.3038\n",
      "Epoch 8/10\n",
      "\u001b[1m87/87\u001b[0m \u001b[32m━━━━━━━━━━━━━━━━━━━━\u001b[0m\u001b[37m\u001b[0m \u001b[1m5s\u001b[0m 59ms/step - accuracy: 0.9760 - loss: 0.0709 - val_accuracy: 0.9135 - val_loss: 0.3006\n",
      "Epoch 9/10\n",
      "\u001b[1m87/87\u001b[0m \u001b[32m━━━━━━━━━━━━━━━━━━━━\u001b[0m\u001b[37m\u001b[0m \u001b[1m5s\u001b[0m 60ms/step - accuracy: 0.9781 - loss: 0.0629 - val_accuracy: 0.8991 - val_loss: 0.4072\n",
      "Epoch 10/10\n",
      "\u001b[1m87/87\u001b[0m \u001b[32m━━━━━━━━━━━━━━━━━━━━\u001b[0m\u001b[37m\u001b[0m \u001b[1m5s\u001b[0m 59ms/step - accuracy: 0.9796 - loss: 0.0580 - val_accuracy: 0.9092 - val_loss: 0.3527\n"
     ]
    },
    {
     "data": {
      "text/plain": [
       "<keras.src.callbacks.history.History at 0x705c091f3710>"
      ]
     },
     "execution_count": 21,
     "metadata": {},
     "output_type": "execute_result"
    }
   ],
   "source": [
    "\n",
    "# Train binary classifier\n",
    "binary_model.fit(X_train_binary, y_train_binary, epochs=10, batch_size=32, validation_split=0.2)\n"
   ]
  },
  {
   "cell_type": "code",
   "execution_count": 22,
   "metadata": {},
   "outputs": [
    {
     "name": "stdout",
     "output_type": "stream",
     "text": [
      "\u001b[1m28/28\u001b[0m \u001b[32m━━━━━━━━━━━━━━━━━━━━\u001b[0m\u001b[37m\u001b[0m \u001b[1m0s\u001b[0m 12ms/step - accuracy: 0.9373 - loss: 0.2107\n",
      "Binary Classifier - Loss: 0.25049901008605957, Accuracy: 0.9273356199264526\n"
     ]
    }
   ],
   "source": [
    "\n",
    "# Evaluate binary classifier\n",
    "binary_loss, binary_accuracy = binary_model.evaluate(X_test_binary, y_test_binary)\n",
    "print(f\"Binary Classifier - Loss: {binary_loss}, Accuracy: {binary_accuracy}\")\n"
   ]
  },
  {
   "cell_type": "code",
   "execution_count": 57,
   "metadata": {},
   "outputs": [
    {
     "name": "stdout",
     "output_type": "stream",
     "text": [
      "\u001b[1m7/7\u001b[0m \u001b[32m━━━━━━━━━━━━━━━━━━━━\u001b[0m\u001b[37m\u001b[0m \u001b[1m0s\u001b[0m 21ms/step\n"
     ]
    }
   ],
   "source": [
    "binary_cutoff_point = 0.5\n",
    "# Predict non-crappy images\n",
    "binary_predictions_unlabeled = binary_model.predict(unlabeled_images)\n",
    "non_crappy_indices = np.where(binary_predictions_unlabeled < binary_cutoff_point)[0]\n",
    "non_crappy_images = unlabeled_images[non_crappy_indices]\n"
   ]
  },
  {
   "cell_type": "code",
   "execution_count": 72,
   "metadata": {},
   "outputs": [
    {
     "data": {
      "text/plain": [
       "<matplotlib.collections.LineCollection at 0x705b22a31f10>"
      ]
     },
     "execution_count": 72,
     "metadata": {},
     "output_type": "execute_result"
    },
    {
     "data": {
      "image/png": "[encoded data removed]",
      "text/plain": [
       "<Figure size 640x480 with 1 Axes>"
      ]
     },
     "metadata": {},
     "output_type": "display_data"
    }
   ],
   "source": [
    "plt.scatter(\n",
    "    x= range(len(binary_predictions_unlabeled)), \n",
    "    y = binary_predictions_unlabeled, \n",
    "    marker='.'\n",
    "    )\n",
    "plt.hlines(binary_cutoff_point, xmin=0, xmax=len(binary_predictions_unlabeled), color='red')"
   ]
  },
  {
   "cell_type": "code",
   "execution_count": 26,
   "metadata": {},
   "outputs": [],
   "source": [
    "\n",
    "# Prepare angle labels\n",
    "not_crappy_mask = labels != \"crappy\"\n",
    "angle_labels = labels[not_crappy_mask]\n",
    "angle_images = labeled_images[not_crappy_mask]\n"
   ]
  },
  {
   "cell_type": "code",
   "execution_count": 83,
   "metadata": {},
   "outputs": [],
   "source": [
    "\n",
    "label_encoder = LabelEncoder()\n",
    "angle_labels_encoded = label_encoder.fit_transform(angle_labels)\n"
   ]
  },
  {
   "cell_type": "code",
   "execution_count": 84,
   "metadata": {},
   "outputs": [],
   "source": [
    "\n",
    "# Train angle classifier\n",
    "X_train_angle, X_test_angle, y_train_angle, y_test_angle = train_test_split(angle_images, angle_labels_encoded, test_size=0.2, random_state=42)\n"
   ]
  },
  {
   "cell_type": "code",
   "execution_count": 85,
   "metadata": {},
   "outputs": [
    {
     "name": "stdout",
     "output_type": "stream",
     "text": [
      "Epoch 1/10\n",
      "\u001b[1m34/34\u001b[0m \u001b[32m━━━━━━━━━━━━━━━━━━━━\u001b[0m\u001b[37m\u001b[0m \u001b[1m2s\u001b[0m 65ms/step - accuracy: 0.9503 - loss: 0.1587 - val_accuracy: 0.8566 - val_loss: 0.5511\n",
      "Epoch 2/10\n",
      "\u001b[1m34/34\u001b[0m \u001b[32m━━━━━━━━━━━━━━━━━━━━\u001b[0m\u001b[37m\u001b[0m \u001b[1m2s\u001b[0m 55ms/step - accuracy: 0.9561 - loss: 0.1444 - val_accuracy: 0.8346 - val_loss: 0.6453\n",
      "Epoch 3/10\n",
      "\u001b[1m34/34\u001b[0m \u001b[32m━━━━━━━━━━━━━━━━━━━━\u001b[0m\u001b[37m\u001b[0m \u001b[1m2s\u001b[0m 57ms/step - accuracy: 0.9503 - loss: 0.1337 - val_accuracy: 0.8382 - val_loss: 0.6273\n",
      "Epoch 4/10\n",
      "\u001b[1m34/34\u001b[0m \u001b[32m━━━━━━━━━━━━━━━━━━━━\u001b[0m\u001b[37m\u001b[0m \u001b[1m2s\u001b[0m 57ms/step - accuracy: 0.9583 - loss: 0.1233 - val_accuracy: 0.8382 - val_loss: 0.7306\n",
      "Epoch 5/10\n",
      "\u001b[1m34/34\u001b[0m \u001b[32m━━━━━━━━━━━━━━━━━━━━\u001b[0m\u001b[37m\u001b[0m \u001b[1m2s\u001b[0m 57ms/step - accuracy: 0.9520 - loss: 0.1459 - val_accuracy: 0.8787 - val_loss: 0.6281\n",
      "Epoch 6/10\n",
      "\u001b[1m34/34\u001b[0m \u001b[32m━━━━━━━━━━━━━━━━━━━━\u001b[0m\u001b[37m\u001b[0m \u001b[1m2s\u001b[0m 57ms/step - accuracy: 0.9578 - loss: 0.0957 - val_accuracy: 0.8566 - val_loss: 0.6689\n",
      "Epoch 7/10\n",
      "\u001b[1m34/34\u001b[0m \u001b[32m━━━━━━━━━━━━━━━━━━━━\u001b[0m\u001b[37m\u001b[0m \u001b[1m2s\u001b[0m 59ms/step - accuracy: 0.9574 - loss: 0.1109 - val_accuracy: 0.8235 - val_loss: 0.6970\n",
      "Epoch 8/10\n",
      "\u001b[1m34/34\u001b[0m \u001b[32m━━━━━━━━━━━━━━━━━━━━\u001b[0m\u001b[37m\u001b[0m \u001b[1m2s\u001b[0m 57ms/step - accuracy: 0.9691 - loss: 0.1014 - val_accuracy: 0.8125 - val_loss: 0.7793\n",
      "Epoch 9/10\n",
      "\u001b[1m34/34\u001b[0m \u001b[32m━━━━━━━━━━━━━━━━━━━━\u001b[0m\u001b[37m\u001b[0m \u001b[1m2s\u001b[0m 68ms/step - accuracy: 0.9780 - loss: 0.0860 - val_accuracy: 0.8382 - val_loss: 0.7463\n",
      "Epoch 10/10\n",
      "\u001b[1m34/34\u001b[0m \u001b[32m━━━━━━━━━━━━━━━━━━━━\u001b[0m\u001b[37m\u001b[0m \u001b[1m2s\u001b[0m 65ms/step - accuracy: 0.9788 - loss: 0.0691 - val_accuracy: 0.8603 - val_loss: 0.7295\n"
     ]
    },
    {
     "data": {
      "text/plain": [
       "<keras.src.callbacks.history.History at 0x705c02218b90>"
      ]
     },
     "execution_count": 85,
     "metadata": {},
     "output_type": "execute_result"
    }
   ],
   "source": [
    "\n",
    "angle_model.fit(X_train_angle, y_train_angle, epochs=10, batch_size=32, validation_split=0.2)\n"
   ]
  },
  {
   "cell_type": "code",
   "execution_count": 86,
   "metadata": {},
   "outputs": [
    {
     "name": "stdout",
     "output_type": "stream",
     "text": [
      "\u001b[1m11/11\u001b[0m \u001b[32m━━━━━━━━━━━━━━━━━━━━\u001b[0m\u001b[37m\u001b[0m \u001b[1m0s\u001b[0m 14ms/step - accuracy: 0.8635 - loss: 0.9882\n",
      "Angle Classifier - Loss: 0.9988084435462952, Accuracy: 0.8554572463035583\n"
     ]
    }
   ],
   "source": [
    "\n",
    "# Evaluate angle classifier\n",
    "angle_loss, angle_accuracy = angle_model.evaluate(X_test_angle, y_test_angle)\n",
    "print(f\"Angle Classifier - Loss: {angle_loss}, Accuracy: {angle_accuracy}\")\n"
   ]
  },
  {
   "cell_type": "code",
   "execution_count": 102,
   "metadata": {},
   "outputs": [
    {
     "name": "stdout",
     "output_type": "stream",
     "text": [
      "\u001b[1m11/11\u001b[0m \u001b[32m━━━━━━━━━━━━━━━━━━━━\u001b[0m\u001b[37m\u001b[0m \u001b[1m0s\u001b[0m 13ms/step\n"
     ]
    }
   ],
   "source": [
    "#visualize a confusion matrix: \n",
    "y_test_predictions = angle_model.predict(X_test_angle)\n",
    "y_test_prediction_labels = np.argmax(y_test_predictions, axis=1)"
   ]
  },
  {
   "cell_type": "code",
   "execution_count": 112,
   "metadata": {},
   "outputs": [
    {
     "data": {
      "text/plain": [
       "array(['front', 'frontleft', 'frontright', 'left', 'rear', 'rearleft',\n",
       "       'rearright', 'right'], dtype=object)"
      ]
     },
     "execution_count": 112,
     "metadata": {},
     "output_type": "execute_result"
    }
   ],
   "source": [
    "labels_decoded = label_encoder.inverse_transform(range(8))\n",
    "labels_decoded"
   ]
  },
  {
   "cell_type": "code",
   "execution_count": 113,
   "metadata": {},
   "outputs": [
    {
     "data": {
      "image/png": "[encoded data removed]",
      "text/plain": [
       "<Figure size 800x600 with 2 Axes>"
      ]
     },
     "metadata": {},
     "output_type": "display_data"
    }
   ],
   "source": [
    "confusion_on_y_test = pd.DataFrame(\n",
    "    {\n",
    "        'actuals': y_test_angle,\n",
    "        'predicts': y_test_prediction_labels\n",
    "    }\n",
    ")\n",
    "\n",
    "#confusion_on_y_test.sample(5)\n",
    "cm = confusion_matrix(confusion_on_y_test['actuals'], confusion_on_y_test['predicts'], labels=range(8))\n",
    "\n",
    "# Display confusion matrix using matplotlib\n",
    "fig, ax = plt.subplots(figsize=(8, 6))\n",
    "disp = ConfusionMatrixDisplay(confusion_matrix=cm, display_labels=labels_decoded)\n",
    "disp.plot(ax=ax, cmap='Blues', colorbar=True)\n",
    "\n",
    "plt.title(\"Confusion Matrix\")\n",
    "plt.xlabel(\"Predicted Labels\")\n",
    "plt.ylabel(\"Actual Labels\")\n",
    "plt.show()"
   ]
  },
  {
   "cell_type": "code",
   "execution_count": 31,
   "metadata": {},
   "outputs": [
    {
     "name": "stdout",
     "output_type": "stream",
     "text": [
      "\u001b[1m3/3\u001b[0m \u001b[32m━━━━━━━━━━━━━━━━━━━━\u001b[0m\u001b[37m\u001b[0m \u001b[1m0s\u001b[0m 56ms/step\n"
     ]
    }
   ],
   "source": [
    "\n",
    "# Predict angles for non-crappy images\n",
    "predicted_angles = angle_model.predict(non_crappy_images)\n",
    "predicted_labels = label_encoder.inverse_transform(np.argmax(predicted_angles, axis=1))\n"
   ]
  },
  {
   "cell_type": "code",
   "execution_count": 32,
   "metadata": {},
   "outputs": [],
   "source": [
    "\n",
    "random_unlabled_data = unlabeled_data.sample(200)\n",
    "random_unlabled_data[\"predicted_label\"] = \"crappy\"\n",
    "random_unlabled_data.iloc[non_crappy_indices, random_unlabled_data.columns.get_loc(\"predicted_label\")] = predicted_labels\n"
   ]
  },
  {
   "cell_type": "code",
   "execution_count": 33,
   "metadata": {},
   "outputs": [
    {
     "data": {
      "text/html": [
       "<div>\n",
       "<style scoped>\n",
       "    .dataframe tbody tr th:only-of-type {\n",
       "        vertical-align: middle;\n",
       "    }\n",
       "\n",
       "    .dataframe tbody tr th {\n",
       "        vertical-align: top;\n",
       "    }\n",
       "\n",
       "    .dataframe thead th {\n",
       "        text-align: right;\n",
       "    }\n",
       "</style>\n",
       "<table border=\"1\" class=\"dataframe\">\n",
       "  <thead>\n",
       "    <tr style=\"text-align: right;\">\n",
       "      <th></th>\n",
       "      <th>image_path</th>\n",
       "      <th>yolobox_top_left_x</th>\n",
       "      <th>yolobox_top_left_y</th>\n",
       "      <th>yolobox_bottom_right_x</th>\n",
       "      <th>yolobox_bottom_right_y</th>\n",
       "      <th>abs_image_path</th>\n",
       "      <th>predicted_label</th>\n",
       "    </tr>\n",
       "  </thead>\n",
       "  <tbody>\n",
       "    <tr>\n",
       "      <th>1153620</th>\n",
       "      <td>bmw/1 Reeks (alle)/284cbf9f-5947-4783-9535-a3e...</td>\n",
       "      <td>102</td>\n",
       "      <td>167</td>\n",
       "      <td>636</td>\n",
       "      <td>411</td>\n",
       "      <td>/home/frederic/Documents/automotive_image_data...</td>\n",
       "      <td>rearright</td>\n",
       "    </tr>\n",
       "    <tr>\n",
       "      <th>7224544</th>\n",
       "      <td>/jeep/Wrangler/ba000628-f171-44cc-b795-ce0ac56...</td>\n",
       "      <td>-1</td>\n",
       "      <td>-1</td>\n",
       "      <td>-1</td>\n",
       "      <td>-1</td>\n",
       "      <td>/home/frederic/Documents/automotive_image_data...</td>\n",
       "      <td>crappy</td>\n",
       "    </tr>\n",
       "    <tr>\n",
       "      <th>14864695</th>\n",
       "      <td>/kia/Niro/8186fa55-51de-40cd-9ae5-a87ee62c6745...</td>\n",
       "      <td>-1</td>\n",
       "      <td>-1</td>\n",
       "      <td>-1</td>\n",
       "      <td>-1</td>\n",
       "      <td>/home/frederic/Documents/automotive_image_data...</td>\n",
       "      <td>crappy</td>\n",
       "    </tr>\n",
       "    <tr>\n",
       "      <th>409070</th>\n",
       "      <td>ford/Focus/d2ccef6e-efa5-4ccb-8b76-1f22d423c9e...</td>\n",
       "      <td>73</td>\n",
       "      <td>140</td>\n",
       "      <td>619</td>\n",
       "      <td>465</td>\n",
       "      <td>/home/frederic/Documents/automotive_image_data...</td>\n",
       "      <td>crappy</td>\n",
       "    </tr>\n",
       "    <tr>\n",
       "      <th>5180711</th>\n",
       "      <td>/mercedes-benz/C-Klasse (alle)/cb8a7672-104e-4...</td>\n",
       "      <td>83</td>\n",
       "      <td>163</td>\n",
       "      <td>649</td>\n",
       "      <td>509</td>\n",
       "      <td>/home/frederic/Documents/automotive_image_data...</td>\n",
       "      <td>crappy</td>\n",
       "    </tr>\n",
       "    <tr>\n",
       "      <th>9788281</th>\n",
       "      <td>/citroen/C4 (alle)/1614bec8-c756-4c58-905b-af7...</td>\n",
       "      <td>-1</td>\n",
       "      <td>-1</td>\n",
       "      <td>-1</td>\n",
       "      <td>-1</td>\n",
       "      <td>/home/frederic/Documents/automotive_image_data...</td>\n",
       "      <td>front</td>\n",
       "    </tr>\n",
       "    <tr>\n",
       "      <th>7985196</th>\n",
       "      <td>/honda/Civic/05aaa26e-b2e8-44ad-a7ac-ca82c56a7...</td>\n",
       "      <td>-1</td>\n",
       "      <td>-1</td>\n",
       "      <td>-1</td>\n",
       "      <td>-1</td>\n",
       "      <td>/home/frederic/Documents/automotive_image_data...</td>\n",
       "      <td>right</td>\n",
       "    </tr>\n",
       "    <tr>\n",
       "      <th>7547532</th>\n",
       "      <td>/land-rover/Discovery Sport/d31d4155-3688-4c3b...</td>\n",
       "      <td>-1</td>\n",
       "      <td>-1</td>\n",
       "      <td>-1</td>\n",
       "      <td>-1</td>\n",
       "      <td>/home/frederic/Documents/automotive_image_data...</td>\n",
       "      <td>frontright</td>\n",
       "    </tr>\n",
       "    <tr>\n",
       "      <th>2217422</th>\n",
       "      <td>skoda/Kamiq/dd730619-8489-4ada-9b75-5afec95735...</td>\n",
       "      <td>1</td>\n",
       "      <td>23</td>\n",
       "      <td>750</td>\n",
       "      <td>526</td>\n",
       "      <td>/home/frederic/Documents/automotive_image_data...</td>\n",
       "      <td>rearright</td>\n",
       "    </tr>\n",
       "    <tr>\n",
       "      <th>712196</th>\n",
       "      <td>peugeot/206/c9b513fb-4a02-4ee2-8ca3-cd823d1503...</td>\n",
       "      <td>-1</td>\n",
       "      <td>-1</td>\n",
       "      <td>-1</td>\n",
       "      <td>-1</td>\n",
       "      <td>/home/frederic/Documents/automotive_image_data...</td>\n",
       "      <td>frontright</td>\n",
       "    </tr>\n",
       "  </tbody>\n",
       "</table>\n",
       "</div>"
      ],
      "text/plain": [
       "                                                 image_path  \\\n",
       "1153620   bmw/1 Reeks (alle)/284cbf9f-5947-4783-9535-a3e...   \n",
       "7224544   /jeep/Wrangler/ba000628-f171-44cc-b795-ce0ac56...   \n",
       "14864695  /kia/Niro/8186fa55-51de-40cd-9ae5-a87ee62c6745...   \n",
       "409070    ford/Focus/d2ccef6e-efa5-4ccb-8b76-1f22d423c9e...   \n",
       "5180711   /mercedes-benz/C-Klasse (alle)/cb8a7672-104e-4...   \n",
       "9788281   /citroen/C4 (alle)/1614bec8-c756-4c58-905b-af7...   \n",
       "7985196   /honda/Civic/05aaa26e-b2e8-44ad-a7ac-ca82c56a7...   \n",
       "7547532   /land-rover/Discovery Sport/d31d4155-3688-4c3b...   \n",
       "2217422   skoda/Kamiq/dd730619-8489-4ada-9b75-5afec95735...   \n",
       "712196    peugeot/206/c9b513fb-4a02-4ee2-8ca3-cd823d1503...   \n",
       "\n",
       "          yolobox_top_left_x  yolobox_top_left_y  yolobox_bottom_right_x  \\\n",
       "1153620                  102                 167                     636   \n",
       "7224544                   -1                  -1                      -1   \n",
       "14864695                  -1                  -1                      -1   \n",
       "409070                    73                 140                     619   \n",
       "5180711                   83                 163                     649   \n",
       "9788281                   -1                  -1                      -1   \n",
       "7985196                   -1                  -1                      -1   \n",
       "7547532                   -1                  -1                      -1   \n",
       "2217422                    1                  23                     750   \n",
       "712196                    -1                  -1                      -1   \n",
       "\n",
       "          yolobox_bottom_right_y  \\\n",
       "1153620                      411   \n",
       "7224544                       -1   \n",
       "14864695                      -1   \n",
       "409070                       465   \n",
       "5180711                      509   \n",
       "9788281                       -1   \n",
       "7985196                       -1   \n",
       "7547532                       -1   \n",
       "2217422                      526   \n",
       "712196                        -1   \n",
       "\n",
       "                                             abs_image_path predicted_label  \n",
       "1153620   /home/frederic/Documents/automotive_image_data...       rearright  \n",
       "7224544   /home/frederic/Documents/automotive_image_data...          crappy  \n",
       "14864695  /home/frederic/Documents/automotive_image_data...          crappy  \n",
       "409070    /home/frederic/Documents/automotive_image_data...          crappy  \n",
       "5180711   /home/frederic/Documents/automotive_image_data...          crappy  \n",
       "9788281   /home/frederic/Documents/automotive_image_data...           front  \n",
       "7985196   /home/frederic/Documents/automotive_image_data...           right  \n",
       "7547532   /home/frederic/Documents/automotive_image_data...      frontright  \n",
       "2217422   /home/frederic/Documents/automotive_image_data...       rearright  \n",
       "712196    /home/frederic/Documents/automotive_image_data...      frontright  "
      ]
     },
     "execution_count": 33,
     "metadata": {},
     "output_type": "execute_result"
    }
   ],
   "source": [
    "random_unlabled_data.sample(10)"
   ]
  },
  {
   "cell_type": "code",
   "execution_count": null,
   "metadata": {},
   "outputs": [],
   "source": []
  }
 ],
 "metadata": {
  "kernelspec": {
   "display_name": "automotive_project",
   "language": "python",
   "name": "python3"
  },
  "language_info": {
   "codemirror_mode": {
    "name": "ipython",
    "version": 3
   },
   "file_extension": ".py",
   "mimetype": "text/x-python",
   "name": "python",
   "nbconvert_exporter": "python",
   "pygments_lexer": "ipython3",
   "version": "3.11.0"
  }
 },
 "nbformat": 4,
 "nbformat_minor": 2
}
